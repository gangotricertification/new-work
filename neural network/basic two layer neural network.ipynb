{
 "cells": [
  {
   "cell_type": "code",
   "execution_count": 93,
   "metadata": {},
   "outputs": [],
   "source": [
    "import numpy as np\n",
    "import matplotlib.pyplot as plt\n",
    "import random\n",
    "X=np.array([[4,1],[5,2],[6,3]])\n",
    "Y=np.array([[1,1]])\n",
    "n_x=X.shape[0]\n",
    "n_h=4"
   ]
  },
  {
   "cell_type": "code",
   "execution_count": 94,
   "metadata": {},
   "outputs": [],
   "source": [
    "np.random.seed(2)\n",
    "w1=np.random.randn(n_h,n_x)\n",
    "b1=np.zeros(shape=(n_h,1))\n",
    "w2=np.random.randn(1,n_h)\n",
    "b2=np.zeros(shape=(1,1))\n",
    "parameters={'w1':w1,'w2':w2,'b1':b1,'b2':b2}\n",
    "m=X.shape[1]"
   ]
  },
  {
   "cell_type": "code",
   "execution_count": 103,
   "metadata": {},
   "outputs": [],
   "source": [
    "def compute1(parameters,X,Y):\n",
    "    w1 = parameters['w1']\n",
    "    b1 = parameters['b1']\n",
    "    w2 = parameters['w2']\n",
    "    b2 = parameters['b2']\n",
    "    z1 = np.dot(w1,X)+b1\n",
    "    a1 = (np.exp(z1)-np.exp(-z1))/(np.exp(z1)+np.exp(-z1))\n",
    "    z2 = np.dot(w2,a1)+b2\n",
    "    a2 = (1/(1+np.exp(-z2)))\n",
    "    cache = {'z1':z1,'z2':z2,'a1':a1,'a2':a2}\n",
    "    loss = np.multiply(np.log(a2), Y) + np.multiply((1 - Y), np.log(1 - a2))\n",
    "    cost = -np.sum(loss)/m\n",
    "    return cache,cost"
   ]
  },
  {
   "cell_type": "code",
   "execution_count": 104,
   "metadata": {},
   "outputs": [],
   "source": [
    "cache,cost=compute1(parameters,X,Y)"
   ]
  },
  {
   "cell_type": "code",
   "execution_count": 132,
   "metadata": {},
   "outputs": [],
   "source": [
    "def backpropogation(parameters,cache,X,Y):\n",
    "    w1 = parameters['w1']\n",
    "    w2 = parameters['w2']\n",
    "    a1 = cache['a1']\n",
    "    a2 = cache['a2']\n",
    "    dz2 = a2-Y\n",
    "    dw2 = (1/m)*np.dot(dz2,a1.T)\n",
    "    db2 = (1/m)*np.sum(dz2,axis=1,keepdims=True)\n",
    "    dz1 = np.multiply(np.dot(w2.T,dz2),1-np.power(a1,2))\n",
    "    dw1 = (1/m)*np.dot(dz1,X.T)\n",
    "    db1 = (1/m)*np.sum(dz1,axis=1,keepdims=True)\n",
    "    grades={'dw1':dw1,'dw2':dw2,'db1':db1,'db2':db2}\n",
    "    return grades;\n",
    "    \n"
   ]
  },
  {
   "cell_type": "code",
   "execution_count": 133,
   "metadata": {},
   "outputs": [],
   "source": [
    "def update(grades,parameters,learning_rate=1.2):\n",
    "    dw1=grades['dw1']\n",
    "    dw2=grades['dw2']\n",
    "    db1=grades['db1']\n",
    "    db2=grades['db2']\n",
    "    w1=parameters['w1']\n",
    "    w2=parameters['w2']\n",
    "    b1=parameters['b1']\n",
    "    b2=parameters['b2']\n",
    "    w1=w1-learning_rate*dw1\n",
    "    w2=w2-learning_rate*dw2\n",
    "    b1=b1-learning_rate*db1\n",
    "    b2=b2-learning_rate*db2\n",
    "    parameters={'w1':w1,'w2':w2,'b1':b1,'b2':b2}\n",
    "    return parameters"
   ]
  },
  {
   "cell_type": "code",
   "execution_count": 134,
   "metadata": {},
   "outputs": [],
   "source": [
    "def NeuralNetwork(X,Y,no_of_iteration,count=False):\n",
    "    np.random.seed(3)\n",
    "    n_x=X.shape[0]\n",
    "    n_h=4\n",
    "    w1=np.random.randn(n_h,n_x)\n",
    "    b1=np.zeros(shape=(n_h,1))\n",
    "    w2=np.random.randn(1,n_h)\n",
    "    b2=np.zeros(shape=(1,1))\n",
    "    parameters={'w1':w1,'w2':w2,'b1':b1,'b2':b2}\n",
    "    m=X.shape[1]\n",
    "    for i in range(0,no_of_iteration):\n",
    "        cache,cost=compute1(parameters,X,Y)\n",
    "        grads=backpropogation(parameters,cache,X,Y)\n",
    "        parameters=update(grades,parameters,learning_rate=1.2)\n",
    "        print(\"cost after iteration %i: %f\" %(i,cost))\n",
    "    return parameters"
   ]
  },
  {
   "cell_type": "code",
   "execution_count": 135,
   "metadata": {},
   "outputs": [
    {
     "name": "stdout",
     "output_type": "stream",
     "text": [
      "cost after iteration 0: 1.032129\n",
      "cost after iteration 1: 0.044222\n",
      "cost after iteration 2: 0.001256\n",
      "cost after iteration 3: 0.000035\n",
      "cost after iteration 4: 0.000001\n",
      "cost after iteration 5: 0.000000\n",
      "cost after iteration 6: 0.000000\n",
      "cost after iteration 7: 0.000000\n",
      "cost after iteration 8: 0.000000\n",
      "cost after iteration 9: 0.000000\n",
      "cost after iteration 10: 0.000000\n",
      "cost after iteration 11: nan\n",
      "cost after iteration 12: nan\n",
      "cost after iteration 13: nan\n",
      "cost after iteration 14: nan\n",
      "cost after iteration 15: nan\n",
      "cost after iteration 16: nan\n",
      "cost after iteration 17: nan\n",
      "cost after iteration 18: nan\n",
      "cost after iteration 19: nan\n"
     ]
    },
    {
     "name": "stderr",
     "output_type": "stream",
     "text": [
      "C:\\Users\\ashum\\Anaconda3\\lib\\site-packages\\ipykernel_launcher.py:11: RuntimeWarning: divide by zero encountered in log\n",
      "  # This is added back by InteractiveShellApp.init_path()\n",
      "C:\\Users\\ashum\\Anaconda3\\lib\\site-packages\\ipykernel_launcher.py:11: RuntimeWarning: invalid value encountered in multiply\n",
      "  # This is added back by InteractiveShellApp.init_path()\n"
     ]
    }
   ],
   "source": [
    "parameters=NeuralNetwork(X,Y,20,count=True)"
   ]
  },
  {
   "cell_type": "code",
   "execution_count": 136,
   "metadata": {},
   "outputs": [
    {
     "data": {
      "text/plain": [
       "{'b1': array([[ 0.14407467],\n",
       "        [ 0.0284194 ],\n",
       "        [-1.05705035],\n",
       "        [-6.26651538]]),\n",
       " 'b2': array([[15.42691528]]),\n",
       " 'w1': array([[  1.9327035 ,   0.72465955,   0.52872184],\n",
       "        [ -1.83507328,  -0.22054938,  -0.26950076],\n",
       "        [ -1.17460655,  -2.77591609,  -3.24978393],\n",
       "        [ -6.89079633, -13.99395843, -18.06198668]]),\n",
       " 'w2': array([[ 16.26446761, -13.70219488, -14.55937366, -11.17158276]])}"
      ]
     },
     "execution_count": 136,
     "metadata": {},
     "output_type": "execute_result"
    }
   ],
   "source": [
    "parameters"
   ]
  },
  {
   "cell_type": "code",
   "execution_count": 121,
   "metadata": {},
   "outputs": [],
   "source": [
    "   "
   ]
  },
  {
   "cell_type": "code",
   "execution_count": null,
   "metadata": {},
   "outputs": [],
   "source": []
  },
  {
   "cell_type": "code",
   "execution_count": null,
   "metadata": {},
   "outputs": [],
   "source": []
  },
  {
   "cell_type": "code",
   "execution_count": null,
   "metadata": {},
   "outputs": [],
   "source": []
  }
 ],
 "metadata": {
  "kernelspec": {
   "display_name": "Python 3",
   "language": "python",
   "name": "python3"
  },
  "language_info": {
   "codemirror_mode": {
    "name": "ipython",
    "version": 3
   },
   "file_extension": ".py",
   "mimetype": "text/x-python",
   "name": "python",
   "nbconvert_exporter": "python",
   "pygments_lexer": "ipython3",
   "version": "3.5.6"
  }
 },
 "nbformat": 4,
 "nbformat_minor": 2
}
